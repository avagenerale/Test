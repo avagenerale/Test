{
  "nbformat": 4,
  "nbformat_minor": 0,
  "metadata": {
    "colab": {
      "provenance": [],
      "authorship_tag": "ABX9TyMNKdR19DrCHDwf2fEzggzK",
      "include_colab_link": true
    },
    "kernelspec": {
      "name": "python3",
      "display_name": "Python 3"
    },
    "language_info": {
      "name": "python"
    }
  },
  "cells": [
    {
      "cell_type": "markdown",
      "metadata": {
        "id": "view-in-github",
        "colab_type": "text"
      },
      "source": [
        "<a href=\"https://colab.research.google.com/github/avagenerale/Test/blob/main/In_Class_Assignments.ipynb\" target=\"_parent\"><img src=\"https://colab.research.google.com/assets/colab-badge.svg\" alt=\"Open In Colab\"/></a>"
      ]
    },
    {
      "cell_type": "markdown",
      "source": [
        "Cylinder Area"
      ],
      "metadata": {
        "id": "RjjBz31vo28y"
      }
    },
    {
      "cell_type": "code",
      "execution_count": null,
      "metadata": {
        "colab": {
          "base_uri": "https://localhost:8080/"
        },
        "id": "6H2Hyy4UOScY",
        "outputId": "c3168721-7c22-4b26-b9c6-047e57ed66ba"
      },
      "outputs": [
        {
          "output_type": "stream",
          "name": "stdout",
          "text": [
            "Enter pi: 3.14\n",
            "Enter radius: 2\n",
            "Enter height: 2\n",
            "Area of cylinder: 50.24 sq. ft\n"
          ]
        },
        {
          "output_type": "execute_result",
          "data": {
            "text/plain": [
              "7"
            ]
          },
          "metadata": {},
          "execution_count": 8
        }
      ],
      "source": [
        "pi = float(input('Enter pi: '))\n",
        "radius = float(input('Enter radius: '))\n",
        "height = float(input('Enter height: '))\n",
        "\n",
        "area = (2 * pi * (radius ** 2)) + (2 * pi * radius * height)\n",
        "\n",
        "print(f'Area of cylinder: {area} sq. ft')"
      ]
    },
    {
      "cell_type": "markdown",
      "source": [
        "Numerical Calculator"
      ],
      "metadata": {
        "id": "57U5g3tKo6q6"
      }
    },
    {
      "cell_type": "code",
      "source": [
        "from types import resolve_bases\n",
        "n1 = float(input('Enter n1: '))\n",
        "n2 = float(input('Enter n2: '))\n",
        "op = input('Enter op: ')\n",
        "\n",
        "if op == '+':\n",
        "  res = (n1 + n2)\n",
        "elif op == '-':\n",
        "  res = (n1 - n2)\n",
        "elif op == '*':\n",
        "  res = (n1 * n2)\n",
        "elif op == '/':\n",
        "  res = (n1 / n2)\n",
        "elif op == '//':\n",
        "  res = (n1 // n2)\n",
        "elif op == '%':\n",
        "  res = (n1 % n2)\n",
        "elif op == '**':\n",
        "  res = (n1 ** n2)\n",
        "else:\n",
        "  res = ('Invalid operator')\n",
        "\n",
        "print(f'{n1} {op} {n2} = {res}')"
      ],
      "metadata": {
        "colab": {
          "base_uri": "https://localhost:8080/"
        },
        "id": "z78PDyl-6rEC",
        "outputId": "86799549-705c-43ca-8c3f-3f49f1f5d49b"
      },
      "execution_count": null,
      "outputs": [
        {
          "output_type": "stream",
          "name": "stdout",
          "text": [
            "Enter n1: 5\n",
            "Enter n2: 6\n",
            "Enter op: +\n",
            "5.0 + 6.0 = 11.0\n"
          ]
        }
      ]
    },
    {
      "cell_type": "markdown",
      "source": [
        "Parking Garage"
      ],
      "metadata": {
        "id": "DWjbCXLbo-4-"
      }
    },
    {
      "cell_type": "code",
      "source": [
        "for numberHours in range(1, 9):\n",
        "  fee = 5 + 2.5 * numberHours\n",
        "  if fee < 10:\n",
        "    fee = 10.0\n",
        "  elif fee > 20:\n",
        "    fee = 20.0\n",
        "  print(numberHours, fee)"
      ],
      "metadata": {
        "colab": {
          "base_uri": "https://localhost:8080/"
        },
        "id": "Agl8ra5Wwv3v",
        "outputId": "eae4e8cd-20e6-4864-c2e7-eba0e7543adb"
      },
      "execution_count": null,
      "outputs": [
        {
          "output_type": "stream",
          "name": "stdout",
          "text": [
            "1 10.0\n",
            "2 10.0\n",
            "3 12.5\n",
            "4 15.0\n",
            "5 17.5\n",
            "6 20.0\n",
            "7 20.0\n",
            "8 20.0\n"
          ]
        }
      ]
    },
    {
      "cell_type": "markdown",
      "source": [
        "Movie Theater"
      ],
      "metadata": {
        "id": "iCsc2BcvpBqP"
      }
    },
    {
      "cell_type": "code",
      "source": [
        "print('Ad$\\t', 'Profit')\n",
        "for AdMoney in range (0, 201, 25):\n",
        "  rev = (20 + 2 * round(AdMoney ** 0.5)) * 10\n",
        "for AdMoney in range (0, 201, 25):\n",
        "  rev = (20 + 2 * round(AdMoney ** 0.5)) * 10\n",
        "  costs = 200 + AdMoney\n",
        "  profit = rev - costs\n",
        "  print (AdMoney, '\\t', profit)"
      ],
      "metadata": {
        "colab": {
          "base_uri": "https://localhost:8080/"
        },
        "id": "0cl_rzsEn4sg",
        "outputId": "5aa6c2c6-c48b-436e-b907-550ef639fcd3"
      },
      "execution_count": 1,
      "outputs": [
        {
          "output_type": "stream",
          "name": "stdout",
          "text": [
            "Ad$\t Profit\n",
            "0 \t 0\n",
            "25 \t 75\n",
            "50 \t 90\n",
            "75 \t 105\n",
            "100 \t 100\n",
            "125 \t 95\n",
            "150 \t 90\n",
            "175 \t 85\n",
            "200 \t 80\n"
          ]
        }
      ]
    },
    {
      "cell_type": "markdown",
      "source": [
        "Rock Paper Scissors"
      ],
      "metadata": {
        "id": "8V7jYZZqpFmY"
      }
    },
    {
      "cell_type": "code",
      "source": [
        "play= input('Do you want to play a game? (Y/N): ')\n",
        "\n",
        "while play == 'Y':\n",
        "  player1 = input('Player 1: Choose rock, paper or scissors: ')\n",
        "  player2 = random.choice(['rock', 'paper', 'scissor']).capitalize()\n",
        "\n",
        "  print(f'Player chose {player1}; Computer chose {player2}')\n",
        "\n",
        "  if player1 == player2:\n",
        "    print ('Draw')\n",
        "  elif ((player1 == 'rock' and player2 == 'scissors') or\n",
        "        (player1 == 'paper' and player2 == 'rock') or\n",
        "        (player1 == 'scissors' and player2 == 'paper')):\n",
        "    print('Player wins')\n",
        "  else:\n",
        "    print('Computer wins')\n",
        "\n",
        "  play= input('Do you want to play a game? (Y/N): ').capitalize()\n",
        "print('Good day...')"
      ],
      "metadata": {
        "id": "BI9XCabahwhO"
      },
      "execution_count": null,
      "outputs": []
    },
    {
      "cell_type": "markdown",
      "source": [
        "Append Items to List Iteratively"
      ],
      "metadata": {
        "id": "M41Z_nzDstYh"
      }
    },
    {
      "cell_type": "code",
      "source": [
        "L = []\n",
        "n = float(input('Enter a number: '))\n",
        "\n",
        "while n != 0:\n",
        "  L.append(n)\n",
        "  n = float(input('Enter a number:'))\n",
        "\n",
        "L.sort(reverse=True)\n",
        "print(L)\n"
      ],
      "metadata": {
        "colab": {
          "base_uri": "https://localhost:8080/"
        },
        "id": "5v32MokAdWDC",
        "outputId": "ddd3b11c-27f4-4e95-87f2-e4f887c6d0ef"
      },
      "execution_count": null,
      "outputs": [
        {
          "output_type": "stream",
          "name": "stdout",
          "text": [
            "Enter a number: 5.8\n",
            "Enter a number:6\n",
            "Enter a number:6.9\n",
            "Enter a number:0\n",
            "[6.9, 6.0, 5.8]\n"
          ]
        }
      ]
    },
    {
      "cell_type": "markdown",
      "source": [
        "Dynamic Dictionary; 5 Distinct Key : Value Pairs"
      ],
      "metadata": {
        "id": "w51Qhqrisxws"
      }
    },
    {
      "cell_type": "code",
      "source": [
        "counts = {}\n",
        "\n",
        "while len(counts) < 5:\n",
        "  key = input(\"Please enter value: \")\n",
        "\n",
        "  if key not in counts:\n",
        "    counts[key] = 1\n",
        "  else:\n",
        "    counts[key] += 1\n",
        "counts"
      ],
      "metadata": {
        "colab": {
          "base_uri": "https://localhost:8080/"
        },
        "id": "_IgBcCA0u0Js",
        "outputId": "422c7459-c361-4ce7-b4b4-7cb9a2562cca"
      },
      "execution_count": 3,
      "outputs": [
        {
          "name": "stdout",
          "output_type": "stream",
          "text": [
            "Please enter value: a\n",
            "Please enter value: a\n",
            "Please enter value: b\n",
            "Please enter value: c\n",
            "Please enter value: d\n",
            "Please enter value: e\n"
          ]
        },
        {
          "output_type": "execute_result",
          "data": {
            "text/plain": [
              "{'a': 2, 'b': 1, 'c': 1, 'd': 1, 'e': 1}"
            ]
          },
          "metadata": {},
          "execution_count": 3
        }
      ]
    },
    {
      "cell_type": "markdown",
      "source": [
        "Dynamic Dictionary of Number : Month Pairs"
      ],
      "metadata": {
        "id": "aOO5tuMFsylH"
      }
    },
    {
      "cell_type": "code",
      "source": [
        "months ={}\n",
        "\n",
        "names = [\"Jan\", \"Feb\", \"Mar\", \"Apr\", \"May\", \"Jun\", \"Jul\", \"Aug\", \"Sep\", \"Oct\", \"Nov\", \"Dec\"]\n",
        "numbers = [1,2,3,4,5,6,7,8,9,10,11,12]\n",
        "\n",
        "for num in numbers:\n",
        "    months[num] = names[num - 1]\n",
        "months"
      ],
      "metadata": {
        "colab": {
          "base_uri": "https://localhost:8080/"
        },
        "id": "pli09aGkvyQQ",
        "outputId": "b9d57efa-bb5a-4b24-a211-e72baa19bf8e"
      },
      "execution_count": null,
      "outputs": [
        {
          "output_type": "execute_result",
          "data": {
            "text/plain": [
              "{1: 'Jan',\n",
              " 2: 'Feb',\n",
              " 3: 'Mar',\n",
              " 4: 'Apr',\n",
              " 5: 'May',\n",
              " 6: 'Jun',\n",
              " 7: 'Jul',\n",
              " 8: 'Aug',\n",
              " 9: 'Sep',\n",
              " 10: 'Oct',\n",
              " 11: 'Nov',\n",
              " 12: 'Dec'}"
            ]
          },
          "metadata": {},
          "execution_count": 4
        }
      ]
    },
    {
      "cell_type": "markdown",
      "source": [
        "Parking Garage: calcFee Function"
      ],
      "metadata": {
        "id": "LWT1ge8os0zv"
      }
    },
    {
      "cell_type": "code",
      "source": [
        "def calcFee(hours):\n",
        "  fee = 5 + 2.5 * hours\n",
        "  if fee < 10:\n",
        "    fee = 10.0\n",
        "  elif fee > 20:\n",
        "    fee = 20.0\n",
        "  print(f'Fee: {fee}$')\n",
        "\n",
        "def main ():\n",
        "  numhours = int(input('Enter number of hours: '))\n",
        "  calcFee(numhours)\n",
        "\n",
        "main()"
      ],
      "metadata": {
        "colab": {
          "base_uri": "https://localhost:8080/"
        },
        "id": "h8fTTTpA1hSQ",
        "outputId": "3cbddcb9-c9f2-47cb-ca41-ccae5f29843a"
      },
      "execution_count": null,
      "outputs": [
        {
          "output_type": "stream",
          "name": "stdout",
          "text": [
            "enter number of hours: 4\n",
            "Fee: 15.0$\n"
          ]
        }
      ]
    },
    {
      "cell_type": "markdown",
      "source": [
        "Reverse String"
      ],
      "metadata": {
        "id": "rB-5MBNls39S"
      }
    },
    {
      "cell_type": "code",
      "source": [
        "def reverse(s):\n",
        "  if len(s) <= 1:\n",
        "    return s\n",
        "  else:\n",
        "    # return s[-1] + reverse(s[:-1])\n",
        "    # return s[-1] + reverse(s[1:-1]) +s[0]\n",
        "    return reverse(s[1:]) + s[0]\n",
        "reverse('Hello')"
      ],
      "metadata": {
        "id": "nNGRlWg4epnf",
        "outputId": "cbda38c7-4b79-46ae-a93a-d6d6319ef701",
        "colab": {
          "base_uri": "https://localhost:8080/",
          "height": 35
        }
      },
      "execution_count": null,
      "outputs": [
        {
          "output_type": "execute_result",
          "data": {
            "text/plain": [
              "'olleH'"
            ],
            "application/vnd.google.colaboratory.intrinsic+json": {
              "type": "string"
            }
          },
          "metadata": {},
          "execution_count": 1
        }
      ]
    },
    {
      "cell_type": "markdown",
      "source": [
        "Modified Parking Function (Try/Except)"
      ],
      "metadata": {
        "id": "VJV_Lvyxs6X9"
      }
    },
    {
      "cell_type": "code",
      "source": [
        "def calcFee(hours):\n",
        "  fee = (5 + hours * 2.50)\n",
        "  if fee < 10.0:\n",
        "    fee = 10.0\n",
        "  elif fee >= 20.0:\n",
        "    fee = 20.0\n",
        "  print(f'Parking fee: ${fee}')\n",
        "\n",
        "\n",
        "try:\n",
        "  numberHours = int(input(\"Please input the number of hours parked: \"))\n",
        "  calcFee(numberHours)\n",
        "\n",
        "except ValueError:\n",
        "  print(\"ERROR! Please enter a valid integer for hours parked.\")"
      ],
      "metadata": {
        "colab": {
          "base_uri": "https://localhost:8080/"
        },
        "id": "oUbd8-Ngobwp",
        "outputId": "3e18f7c2-e338-46f7-aaea-1ff68c4b2e60"
      },
      "execution_count": 4,
      "outputs": [
        {
          "output_type": "stream",
          "name": "stdout",
          "text": [
            "Please input the number of hours parked: 5\n",
            "Parking fee: $17.5\n"
          ]
        }
      ]
    },
    {
      "cell_type": "markdown",
      "source": [
        "Modified Quality Control (Try/Except)"
      ],
      "metadata": {
        "id": "n0EmAEe7s_V1"
      }
    },
    {
      "cell_type": "code",
      "source": [
        "def getValues(n):\n",
        "  L = []\n",
        "  for i in range(n):\n",
        "    weight = float(input('Please enter a weight: '))\n",
        "    L.append(weight)\n",
        "  return L\n",
        "\n",
        "def calcAverage(alist):\n",
        "  try:\n",
        "     print(f'The average weight is {sum(alist[2:]) / len(alist[2:])} lbs.')\n",
        "  except ZeroDivisionError:\n",
        "    print(\"ERROR! List AList is empty.\")\n",
        "\n",
        "if __name__ == \"__main__\":\n",
        "    try:\n",
        "      n = int(input(\"Please enter the number of weights: \"))\n",
        "      alist = getValues(n)\n",
        "      calcAverage(alist)\n",
        "    except ValueError:\n",
        "      print(\"ERROR! Please enter a valid integer.\")\n",
        "    except:\n",
        "      print(\"ERROR! Unknown Error.\")"
      ],
      "metadata": {
        "colab": {
          "base_uri": "https://localhost:8080/"
        },
        "id": "_e8pCwZKojX5",
        "outputId": "1f3789ad-7961-4295-c372-993faac66928"
      },
      "execution_count": 5,
      "outputs": [
        {
          "output_type": "stream",
          "name": "stdout",
          "text": [
            "Please enter the number of weights: 3\n",
            "Please enter a weight: 2\n",
            "Please enter a weight: 1\n",
            "Please enter a weight: 3\n",
            "The average weight is 3.0 lbs.\n"
          ]
        }
      ]
    },
    {
      "cell_type": "markdown",
      "source": [
        "Greeting Class"
      ],
      "metadata": {
        "id": "uD0zVzaWtDYj"
      }
    },
    {
      "cell_type": "code",
      "source": [
        "class Greeting:\n",
        "  def __init__(self, first, last):\n",
        "    self.first = first\n",
        "    self.last = last\n",
        "\n",
        "  def display(self, formal=False):\n",
        "    if formal:\n",
        "      print(f'Hello {self.first} {self.last}')\n",
        "    else:\n",
        "      print(f'Hello {self.first}')\n",
        "\n",
        "def __str__(self):\n",
        "  return str(self.first) + \",\" + str(self.last)\n",
        "\n",
        "greeting = Greeting('John', 'Smith')\n",
        "greeting.display(formal=True)"
      ],
      "metadata": {
        "colab": {
          "base_uri": "https://localhost:8080/"
        },
        "id": "2pEFTTqWopi4",
        "outputId": "9558ac88-964a-45ee-8e8e-72b0aeea4093"
      },
      "execution_count": 6,
      "outputs": [
        {
          "output_type": "stream",
          "name": "stdout",
          "text": [
            "Hello John Smith\n"
          ]
        }
      ]
    },
    {
      "cell_type": "markdown",
      "source": [
        "Student Class"
      ],
      "metadata": {
        "id": "OJ7grcKptFgH"
      }
    },
    {
      "cell_type": "code",
      "source": [
        "class Student:\n",
        "  def __init__(self, name, number):\n",
        "    self.name = name\n",
        "    self.number = number\n",
        "    self.courses = []\n",
        "\n",
        "  def enroll(self,course):\n",
        "    if course not in self.courses:\n",
        "      self.courses.append(course)\n",
        "    else:\n",
        "      print(f'You have already enrolled in {course}')\n",
        "\n",
        "  def get_courses(self):\n",
        "    return self.courses\n",
        "\n",
        "s1= Student('Bob',100)\n",
        "s2= Student('Alice',101)\n",
        "s1.name, s2.name"
      ],
      "metadata": {
        "colab": {
          "base_uri": "https://localhost:8080/"
        },
        "id": "5xydPgHhot3Z",
        "outputId": "8fb8b529-34a7-4f02-a711-21e0c07476d1"
      },
      "execution_count": 7,
      "outputs": [
        {
          "output_type": "execute_result",
          "data": {
            "text/plain": [
              "('Bob', 'Alice')"
            ]
          },
          "metadata": {},
          "execution_count": 7
        }
      ]
    },
    {
      "cell_type": "markdown",
      "source": [
        "Class Point"
      ],
      "metadata": {
        "id": "bRWTkcaPtHvm"
      }
    },
    {
      "cell_type": "code",
      "source": [
        "import math\n",
        "\n",
        "class Point:\n",
        "  def __init__(self, x, y):\n",
        "    self.x = x\n",
        "    self.y = y\n",
        "\n",
        "  def distance(self, other):\n",
        "    dx = (self.x - other.x) ** 2\n",
        "    dy = (self.y - other.y) ** 2\n",
        "    dist = math.sqrt(dx + dy)\n",
        "    return dist\n",
        "\n",
        "p1 = Point(1,7)\n",
        "p2 = Point(4,3)\n",
        "p1.distance(p2)"
      ],
      "metadata": {
        "colab": {
          "base_uri": "https://localhost:8080/"
        },
        "id": "kTgAqObqoyVN",
        "outputId": "efc89383-4e7d-48c2-e923-b47af11de861"
      },
      "execution_count": 8,
      "outputs": [
        {
          "output_type": "execute_result",
          "data": {
            "text/plain": [
              "5.0"
            ]
          },
          "metadata": {},
          "execution_count": 8
        }
      ]
    },
    {
      "cell_type": "markdown",
      "source": [
        "Class Rectangle"
      ],
      "metadata": {
        "id": "EgzAodoptKJ5"
      }
    },
    {
      "cell_type": "code",
      "source": [
        "class Rectangle:\n",
        "  def __init__(self):\n",
        "    self.c1 = Point(0, 0)\n",
        "    self.c2 = Point(0, 2)\n",
        "    self.c3 = Point(2, 0)\n",
        "    self.c4 = Point(2, 2)\n",
        "    self.width = self.calculate_width()\n",
        "    self.length = self.calculate_length()\n",
        "\n",
        "  def calculate_width(self):\n",
        "    return self.c1.distance (self.c3)\n",
        "\n",
        "  def calculate_length(self):\n",
        "    return self.c1.distance (self.c2)\n",
        "\n",
        "  def area(self):\n",
        "    return f'Area = {self.width * self.length} sq ft.'\n",
        "\n",
        "\n",
        "square = Rectangle()\n",
        "square.area()"
      ],
      "metadata": {
        "colab": {
          "base_uri": "https://localhost:8080/",
          "height": 35
        },
        "id": "FjzRLghPo04w",
        "outputId": "8c377ed7-d3a3-44b8-be5d-c1fb2b1cb0b4"
      },
      "execution_count": 9,
      "outputs": [
        {
          "output_type": "execute_result",
          "data": {
            "text/plain": [
              "'Area = 4.0 sq ft.'"
            ],
            "application/vnd.google.colaboratory.intrinsic+json": {
              "type": "string"
            }
          },
          "metadata": {},
          "execution_count": 9
        }
      ]
    }
  ]
}