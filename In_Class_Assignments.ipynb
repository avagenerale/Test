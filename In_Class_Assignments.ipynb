{
  "nbformat": 4,
  "nbformat_minor": 0,
  "metadata": {
    "colab": {
      "provenance": [],
      "authorship_tag": "ABX9TyNUYGMh9eEHWYVQ9dBjcSh5",
      "include_colab_link": true
    },
    "kernelspec": {
      "name": "python3",
      "display_name": "Python 3"
    },
    "language_info": {
      "name": "python"
    }
  },
  "cells": [
    {
      "cell_type": "markdown",
      "metadata": {
        "id": "view-in-github",
        "colab_type": "text"
      },
      "source": [
        "<a href=\"https://colab.research.google.com/github/avagenerale/Test/blob/main/In_Class_Assignments.ipynb\" target=\"_parent\"><img src=\"https://colab.research.google.com/assets/colab-badge.svg\" alt=\"Open In Colab\"/></a>"
      ]
    },
    {
      "cell_type": "code",
      "execution_count": null,
      "metadata": {
        "id": "6H2Hyy4UOScY"
      },
      "outputs": [],
      "source": [
        "1 pi = 3.14\n",
        "2 radius = float(input('Enter radius: '))\n",
        "3 height = float(input('Enter height: '))\n",
        "4\n",
        "5 area = (2 * pi * (radius ** 2)) + (2 * pi * radius * height)\n",
        "6\n"
      ]
    }
  ]
}